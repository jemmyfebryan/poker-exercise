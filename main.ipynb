{
 "cells": [
  {
   "cell_type": "code",
   "execution_count": 43,
   "metadata": {},
   "outputs": [],
   "source": [
    "from utils.odds_calc import HoldemTable\n",
    "import copy\n",
    "import time\n",
    "import os\n",
    "import numpy as np"
   ]
  },
  {
   "cell_type": "code",
   "execution_count": 44,
   "metadata": {},
   "outputs": [],
   "source": [
    "def calculate_odds(ht):\n",
    "    n_sim = 10\n",
    "    prob = {\n",
    "        'win': 0,\n",
    "        'tie': 0\n",
    "    }\n",
    "    for _ in range(n_sim):\n",
    "        temp_ht = copy.deepcopy(ht)\n",
    "        # temp_ht = HoldemTable(num_players=num_opponents+1, deck_type='full')\n",
    "        # temp_ht.add_to_hand(1, player_cards)\n",
    "        temp_ht.next_round()\n",
    "        # if community_count == 3: temp_ht.next_round()\n",
    "        temp = temp_ht.simulate(num_scenarios=10000)\n",
    "        prob['win'] += temp['Player 1 Win']\n",
    "        prob['tie'] += temp['Player 1 Tie']\n",
    "    \n",
    "    prob['win'] /= n_sim\n",
    "    prob['tie'] /= n_sim\n",
    "\n",
    "    return {\n",
    "        'win': prob['win'],\n",
    "        'lose': 100 - prob['win'] - prob['tie'],\n",
    "        'tie': prob['tie']\n",
    "    }"
   ]
  },
  {
   "cell_type": "code",
   "execution_count": null,
   "metadata": {},
   "outputs": [
    {
     "data": {
      "text/plain": [
       "{'Player 1': '4h 3d',\n",
       " 'Player 2': 'Jd 9d',\n",
       " 'Player 3': 'Jc 5s',\n",
       " 'Player 4': '4s 4c',\n",
       " 'Player 5': '3h 3c',\n",
       " 'Player 6': '2h 2s',\n",
       " 'Player 7': '5d Ah',\n",
       " 'Community Cards': ''}"
      ]
     },
     "execution_count": 50,
     "metadata": {},
     "output_type": "execute_result"
    }
   ],
   "source": [
    "ht = HoldemTable(num_players=num_players, deck_type='full')\n",
    "ht.pla\n",
    "\n",
    "ht.view_table()"
   ]
  },
  {
   "cell_type": "code",
   "execution_count": 46,
   "metadata": {},
   "outputs": [
    {
     "name": "stdout",
     "output_type": "stream",
     "text": [
      "{'Player 1': '4d 7s', 'Player 2': '', 'Player 3': '', 'Player 4': '', 'Player 5': '', 'Player 6': '', 'Player 7': '', 'Community Cards': 'Qs 5d 7h 9h'}\n"
     ]
    },
    {
     "ename": "ValueError",
     "evalue": "could not convert string to float: ''",
     "output_type": "error",
     "traceback": [
      "\u001b[1;31m---------------------------------------------------------------------------\u001b[0m",
      "\u001b[1;31mValueError\u001b[0m                                Traceback (most recent call last)",
      "Cell \u001b[1;32mIn[46], line 12\u001b[0m\n\u001b[0;32m     10\u001b[0m rounded_win_rate \u001b[38;5;241m=\u001b[39m \u001b[38;5;28mround\u001b[39m(win_rate, \u001b[38;5;241m1\u001b[39m)\n\u001b[0;32m     11\u001b[0m \u001b[38;5;28mprint\u001b[39m(ht\u001b[38;5;241m.\u001b[39mview_table())\n\u001b[1;32m---> 12\u001b[0m user_predict \u001b[38;5;241m=\u001b[39m \u001b[38;5;28mround\u001b[39m(\u001b[38;5;28;43mfloat\u001b[39;49m\u001b[43m(\u001b[49m\u001b[38;5;28;43minput\u001b[39;49m\u001b[43m(\u001b[49m\u001b[38;5;124;43m\"\u001b[39;49m\u001b[38;5;124;43mWhat is the winrate? (ex: 0.3) : \u001b[39;49m\u001b[38;5;124;43m\"\u001b[39;49m\u001b[43m)\u001b[49m\u001b[43m)\u001b[49m, \u001b[38;5;241m1\u001b[39m)\n\u001b[0;32m     13\u001b[0m \u001b[38;5;28;01mif\u001b[39;00m rounded_win_rate \u001b[38;5;241m==\u001b[39m user_predict:\n\u001b[0;32m     14\u001b[0m     \u001b[38;5;28mprint\u001b[39m(\u001b[38;5;124mf\u001b[39m\u001b[38;5;124m\"\u001b[39m\u001b[38;5;124mYour prediction is TRUE, the win rate is \u001b[39m\u001b[38;5;132;01m{\u001b[39;00mwin_rate\u001b[38;5;132;01m}\u001b[39;00m\u001b[38;5;124m\"\u001b[39m)\n",
      "\u001b[1;31mValueError\u001b[0m: could not convert string to float: ''"
     ]
    }
   ],
   "source": [
    "while True:\n",
    "    num_players = np.random.randint(2, 10)\n",
    "    ht = HoldemTable(num_players=num_players, deck_type='full')\n",
    "    player_card = ht.random_card(2)\n",
    "    ht.add_to_hand(1, player_card)\n",
    "    if np.random.random() >= 0.66:\n",
    "        community_card = ht.random_card(np.random.randint(3, 5))\n",
    "        ht.add_to_community(community_card)\n",
    "    win_rate = calculate_odds(ht)['win']/100\n",
    "    rounded_win_rate = round(win_rate, 1)\n",
    "    print(ht.view_table())\n",
    "    user_predict = round(float(input(\"What is the winrate? (ex: 0.3) : \")), 1)\n",
    "    if rounded_win_rate == user_predict:\n",
    "        print(f\"Your prediction is TRUE, the win rate is {win_rate}\")\n",
    "    else:\n",
    "        print(f\"Your prediction is FALSE, the win rate is {win_rate}\")\n",
    "    print(\"\\n\\n\\n\")\n",
    "    time.sleep(3)\n",
    "    os.system('cls')\n"
   ]
  },
  {
   "cell_type": "code",
   "execution_count": 15,
   "metadata": {},
   "outputs": [
    {
     "data": {
      "text/plain": [
       "array([[ 2,  0],\n",
       "       [ 9,  3],\n",
       "       [10,  3]])"
      ]
     },
     "execution_count": 15,
     "metadata": {},
     "output_type": "execute_result"
    }
   ],
   "source": [
    "ht.community_arr"
   ]
  },
  {
   "cell_type": "code",
   "execution_count": 6,
   "metadata": {},
   "outputs": [
    {
     "data": {
      "text/plain": [
       "{'Player 1': 'Kd As',\n",
       " 'Player 2': '',\n",
       " 'Player 3': '',\n",
       " 'Player 4': '',\n",
       " 'Player 5': '',\n",
       " 'Player 6': '',\n",
       " 'Player 7': '',\n",
       " 'Player 8': '',\n",
       " 'Player 9': '',\n",
       " 'Community Cards': '2d 9h Th'}"
      ]
     },
     "execution_count": 6,
     "metadata": {},
     "output_type": "execute_result"
    }
   ],
   "source": [
    "ht.view_table()"
   ]
  },
  {
   "cell_type": "code",
   "execution_count": 78,
   "metadata": {},
   "outputs": [
    {
     "name": "stderr",
     "output_type": "stream",
     "text": [
      "INFO:root:Giving Player 3 6h 4d\n"
     ]
    }
   ],
   "source": [
    "ht.add_to_hand(1, ['As', 'Ks'])\n",
    "ht.add_to_hand(2, ['Ad', 'Kd'])\n",
    "ht.next_round()"
   ]
  },
  {
   "cell_type": "code",
   "execution_count": 79,
   "metadata": {},
   "outputs": [
    {
     "name": "stderr",
     "output_type": "stream",
     "text": [
      "INFO:root:9450000 Simulations in 3.08s\n"
     ]
    }
   ],
   "source": [
    "res = ht.simulate()"
   ]
  },
  {
   "cell_type": "code",
   "execution_count": 80,
   "metadata": {},
   "outputs": [
    {
     "data": {
      "text/plain": [
       "{'Player 1 Win': 7.83,\n",
       " 'Player 1 Tie': 48.77,\n",
       " 'Player 2 Win': 5.99,\n",
       " 'Player 2 Tie': 48.77,\n",
       " 'Player 3 Win': 37.41,\n",
       " 'Player 3 Tie': 1.09}"
      ]
     },
     "execution_count": 80,
     "metadata": {},
     "output_type": "execute_result"
    }
   ],
   "source": [
    "res"
   ]
  },
  {
   "cell_type": "code",
   "execution_count": 69,
   "metadata": {},
   "outputs": [
    {
     "data": {
      "text/plain": [
       "{'Player 1 Win': 64.47,\n",
       " 'Player 1 Tie': 0.6,\n",
       " 'Player 2 Win': 34.94,\n",
       " 'Player 2 Tie': 0.6}"
      ]
     },
     "execution_count": 69,
     "metadata": {},
     "output_type": "execute_result"
    }
   ],
   "source": [
    "res"
   ]
  },
  {
   "cell_type": "code",
   "execution_count": 67,
   "metadata": {},
   "outputs": [
    {
     "data": {
      "text/plain": [
       "{'Tie': 0.62, 'Player 1': 64.45, 'Player 2': 34.93}"
      ]
     },
     "execution_count": 67,
     "metadata": {},
     "output_type": "execute_result"
    }
   ],
   "source": [
    "res"
   ]
  },
  {
   "cell_type": "code",
   "execution_count": null,
   "metadata": {},
   "outputs": [],
   "source": []
  }
 ],
 "metadata": {
  "kernelspec": {
   "display_name": "Python 3",
   "language": "python",
   "name": "python3"
  },
  "language_info": {
   "codemirror_mode": {
    "name": "ipython",
    "version": 3
   },
   "file_extension": ".py",
   "mimetype": "text/x-python",
   "name": "python",
   "nbconvert_exporter": "python",
   "pygments_lexer": "ipython3",
   "version": "3.11.3"
  }
 },
 "nbformat": 4,
 "nbformat_minor": 2
}
